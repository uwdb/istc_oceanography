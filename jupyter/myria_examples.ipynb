{
 "cells": [
  {
   "cell_type": "markdown",
   "metadata": {
    "slideshow": {
     "slide_type": "slide"
    }
   },
   "source": [
    "# Myria Python & Jupyter"
   ]
  },
  {
   "cell_type": "markdown",
   "metadata": {
    "slideshow": {
     "slide_type": "slide"
    }
   },
   "source": [
    "<img src=\"overview.png\" style=\"height: 300px\"/>"
   ]
  },
  {
   "cell_type": "markdown",
   "metadata": {
    "slideshow": {
     "slide_type": "slide"
    }
   },
   "source": [
    "### To install `Myria-Python`:\n",
    "\n",
    "```\n",
    "pip install myria-python\n",
    "```\n",
    "\n",
    "### Or:\n",
    "\n",
    "```\n",
    "git clone https://github.com/uwescience/myria-python\n",
    "cd myria-python\n",
    "sudo python setup.py install\n",
    "```\n",
    "\n"
   ]
  },
  {
   "cell_type": "markdown",
   "metadata": {
    "slideshow": {
     "slide_type": "slide"
    }
   },
   "source": [
    "## 1. Connecting to Myria"
   ]
  },
  {
   "cell_type": "code",
   "execution_count": 1,
   "metadata": {
    "collapsed": false
   },
   "outputs": [
    {
     "name": "stderr",
     "output_type": "stream",
     "text": [
      "/home/gridsan/dhutchison/.local/lib/python2.7/site-packages/IPython/config.py:13: ShimWarning: The `IPython.config` package has been deprecated. You should import from traitlets.config instead.\n",
      "  \"You should import from traitlets.config instead.\", ShimWarning)\n",
      "/home/gridsan/dhutchison/.local/lib/python2.7/site-packages/IPython/utils/traitlets.py:5: UserWarning: IPython.utils.traitlets has moved to a top-level traitlets package.\n",
      "  warn(\"IPython.utils.traitlets has moved to a top-level traitlets package.\")\n"
     ]
    },
    {
     "data": {
      "text/plain": [
       "<myria.connection.MyriaConnection at 0x2622ad0>"
      ]
     },
     "execution_count": 1,
     "metadata": {},
     "output_type": "execute_result"
    }
   ],
   "source": [
    "from myria import *\n",
    "import numpy\n",
    "\n",
    "# Load Myria extensions\n",
    "%load_ext myria\n",
    "\n",
    "# Create Jupyter Connection\n",
    "%connect http://localhost:8753"
   ]
  },
  {
   "cell_type": "code",
   "execution_count": 3,
   "metadata": {
    "collapsed": false
   },
   "outputs": [],
   "source": [
    "# Alternatively, create an ordinary Python connection to the Myria demo cluster\n",
    "connection = MyriaConnection(rest_url='http://node-109:8753')\n",
    "# Use this as the default connection\n",
    "MyriaRelation.DefaultConnection = connection"
   ]
  },
  {
   "cell_type": "markdown",
   "metadata": {
    "slideshow": {
     "slide_type": "slide"
    }
   },
   "source": [
    "## 2. Myria: Connections, Relations, and Queries (and Schemas and Plans)"
   ]
  },
  {
   "cell_type": "code",
   "execution_count": null,
   "metadata": {
    "collapsed": false
   },
   "outputs": [],
   "source": [
    "connection.datasets()"
   ]
  },
  {
   "cell_type": "code",
   "execution_count": 4,
   "metadata": {
    "collapsed": false,
    "slideshow": {
     "slide_type": "fragment"
    }
   },
   "outputs": [
    {
     "name": "stdout",
     "output_type": "stream",
     "text": [
      "422\n"
     ]
    }
   ],
   "source": [
    "# How many datasets are there on the server?\n",
    "print len(connection.datasets())"
   ]
  },
  {
   "cell_type": "code",
   "execution_count": 5,
   "metadata": {
    "collapsed": false,
    "slideshow": {
     "slide_type": "slide"
    }
   },
   "outputs": [
    {
     "name": "stdout",
     "output_type": "stream",
     "text": [
      "AboveNotBelow\n",
      "2016-08-13T04:39:02.106-04:00\n"
     ]
    }
   ],
   "source": [
    "# Let's look at the first dataset...\n",
    "dataset = connection.datasets()[0]\n",
    "print dataset['relationKey']['relationName']\n",
    "print dataset['created']"
   ]
  },
  {
   "cell_type": "code",
   "execution_count": null,
   "metadata": {
    "collapsed": false
   },
   "outputs": [],
   "source": [
    "import inspect\n",
    "inspect.getsourcelines(MyriaRelation) "
   ]
  },
  {
   "cell_type": "code",
   "execution_count": 11,
   "metadata": {
    "collapsed": false,
    "slideshow": {
     "slide_type": "fragment"
    }
   },
   "outputs": [
    {
     "data": {
      "text/html": [
       "<table border=\"1\" class=\"dataframe\">\n",
       "  <thead>\n",
       "    <tr style=\"text-align: right;\">\n",
       "      <th></th>\n",
       "      <th>Al_D_CONC_BOTTLE</th>\n",
       "      <th>Ba_D_CONC_BOTTLE</th>\n",
       "      <th>CTDOXY</th>\n",
       "      <th>Cd_D_CONC_BOTTLE</th>\n",
       "      <th>DIC</th>\n",
       "      <th>Fe_D_CONC_BOTTLE</th>\n",
       "      <th>Fe_D_CONC_BOTTLE_FIA</th>\n",
       "      <th>Fe_D_CONC_BOTTLE_FIA_STANDARD_DEV</th>\n",
       "      <th>H2O_18_D_DELTA_BOTTLE</th>\n",
       "      <th>H2O_2_D_DELTA_BOTTLE</th>\n",
       "      <th>La_D_CONC_BOTTLE</th>\n",
       "      <th>Library</th>\n",
       "      <th>Mn_D_CONC_BOTTLE</th>\n",
       "      <th>Mn_D_CONC_BOTTLE_STANDARD_DEV</th>\n",
       "      <th>Mo_D_CONC_BOTTLE</th>\n",
       "      <th>NITRAT</th>\n",
       "      <th>NITRIT</th>\n",
       "      <th>Ni_D_CONC_BOTTLE</th>\n",
       "      <th>OXYGEN</th>\n",
       "      <th>PHSPHT</th>\n",
       "      <th>Pa_231_D_CONC_BOTTLE</th>\n",
       "      <th>Pa_231_D_CONC_BOTTLE_STANDARD_DEV</th>\n",
       "      <th>Pb_D_CONC_BOTTLE</th>\n",
       "      <th>SILCAT</th>\n",
       "      <th>STANDARD_DEV</th>\n",
       "      <th>Station</th>\n",
       "      <th>TALK</th>\n",
       "      <th>Th_230_D_CONC_BOTTLE</th>\n",
       "      <th>Th_230_D_CONC_BOTTLE_STANDARD_DEV</th>\n",
       "      <th>Th_232_D_CONC_BOTTLE</th>\n",
       "      <th>Th_232_D_CONC_BOTTLE_STANDARD_DEV</th>\n",
       "      <th>Th_234_D_CONC_BOTTLE</th>\n",
       "      <th>Th_234_D_CONC_BOTTLE_STANDARD_DEV</th>\n",
       "      <th>U_D_CONC_BOTTLE</th>\n",
       "      <th>Y_D_CONC_BOTTLE</th>\n",
       "      <th>Zn_D_CONC_BOTTLE</th>\n",
       "      <th>depth</th>\n",
       "      <th>pressure</th>\n",
       "      <th>sal</th>\n",
       "      <th>temp</th>\n",
       "    </tr>\n",
       "  </thead>\n",
       "  <tbody>\n",
       "    <tr>\n",
       "      <th>0</th>\n",
       "      <td>0.000000</td>\n",
       "      <td>0.0000</td>\n",
       "      <td>217.4</td>\n",
       "      <td>0.00000</td>\n",
       "      <td>0.0</td>\n",
       "      <td>0.00</td>\n",
       "      <td>0.000000</td>\n",
       "      <td>0.000000</td>\n",
       "      <td>0.00</td>\n",
       "      <td>0.00</td>\n",
       "      <td>0.000</td>\n",
       "      <td>S0072</td>\n",
       "      <td>0.000000</td>\n",
       "      <td>0.00000</td>\n",
       "      <td>0.000</td>\n",
       "      <td>0.0000</td>\n",
       "      <td>0.000000</td>\n",
       "      <td>0.000</td>\n",
       "      <td>0.0</td>\n",
       "      <td>0.000</td>\n",
       "      <td>0.0</td>\n",
       "      <td>0.0</td>\n",
       "      <td>0.000</td>\n",
       "      <td>0.000000</td>\n",
       "      <td>0.000000</td>\n",
       "      <td>20</td>\n",
       "      <td>0.0</td>\n",
       "      <td>0.0</td>\n",
       "      <td>0.0</td>\n",
       "      <td>0.0</td>\n",
       "      <td>0.0</td>\n",
       "      <td>0.0000</td>\n",
       "      <td>0.00000</td>\n",
       "      <td>0.0000</td>\n",
       "      <td>0.00000</td>\n",
       "      <td>0.000</td>\n",
       "      <td>50.0</td>\n",
       "      <td>40.0</td>\n",
       "      <td>36.667250</td>\n",
       "      <td>19.676625</td>\n",
       "    </tr>\n",
       "    <tr>\n",
       "      <th>1</th>\n",
       "      <td>1.985365</td>\n",
       "      <td>46.9873</td>\n",
       "      <td>267.7</td>\n",
       "      <td>0.11765</td>\n",
       "      <td>2088.8</td>\n",
       "      <td>0.09</td>\n",
       "      <td>0.080975</td>\n",
       "      <td>0.008295</td>\n",
       "      <td>0.12</td>\n",
       "      <td>0.94</td>\n",
       "      <td>17.265</td>\n",
       "      <td>S0214</td>\n",
       "      <td>0.668295</td>\n",
       "      <td>0.00683</td>\n",
       "      <td>126.356</td>\n",
       "      <td>6.8075</td>\n",
       "      <td>0.100000</td>\n",
       "      <td>3.685</td>\n",
       "      <td>241.9</td>\n",
       "      <td>0.530</td>\n",
       "      <td>0.0</td>\n",
       "      <td>0.0</td>\n",
       "      <td>21.615</td>\n",
       "      <td>3.175000</td>\n",
       "      <td>0.019515</td>\n",
       "      <td>3</td>\n",
       "      <td>2305.2</td>\n",
       "      <td>0.0</td>\n",
       "      <td>0.0</td>\n",
       "      <td>0.0</td>\n",
       "      <td>0.0</td>\n",
       "      <td>21.4829</td>\n",
       "      <td>0.53658</td>\n",
       "      <td>12.4400</td>\n",
       "      <td>119.74000</td>\n",
       "      <td>0.515</td>\n",
       "      <td>10.0</td>\n",
       "      <td>10.0</td>\n",
       "      <td>34.813499</td>\n",
       "      <td>11.465000</td>\n",
       "    </tr>\n",
       "    <tr>\n",
       "      <th>2</th>\n",
       "      <td>0.000000</td>\n",
       "      <td>0.0000</td>\n",
       "      <td>228.0</td>\n",
       "      <td>0.00000</td>\n",
       "      <td>2045.8</td>\n",
       "      <td>0.00</td>\n",
       "      <td>0.000000</td>\n",
       "      <td>0.000000</td>\n",
       "      <td>0.00</td>\n",
       "      <td>0.00</td>\n",
       "      <td>0.000</td>\n",
       "      <td>S0237</td>\n",
       "      <td>0.000000</td>\n",
       "      <td>0.00000</td>\n",
       "      <td>0.000</td>\n",
       "      <td>0.0000</td>\n",
       "      <td>0.000000</td>\n",
       "      <td>0.000</td>\n",
       "      <td>230.2</td>\n",
       "      <td>0.070</td>\n",
       "      <td>0.0</td>\n",
       "      <td>0.0</td>\n",
       "      <td>0.000</td>\n",
       "      <td>0.800000</td>\n",
       "      <td>0.000000</td>\n",
       "      <td>7</td>\n",
       "      <td>2334.9</td>\n",
       "      <td>0.0</td>\n",
       "      <td>0.0</td>\n",
       "      <td>0.0</td>\n",
       "      <td>0.0</td>\n",
       "      <td>0.0000</td>\n",
       "      <td>0.00000</td>\n",
       "      <td>0.0000</td>\n",
       "      <td>0.00000</td>\n",
       "      <td>0.000</td>\n",
       "      <td>9.0</td>\n",
       "      <td>2.0</td>\n",
       "      <td>35.369999</td>\n",
       "      <td>20.258000</td>\n",
       "    </tr>\n",
       "    <tr>\n",
       "      <th>3</th>\n",
       "      <td>20.400000</td>\n",
       "      <td>41.2976</td>\n",
       "      <td>197.2</td>\n",
       "      <td>0.00170</td>\n",
       "      <td>2002.6</td>\n",
       "      <td>0.34</td>\n",
       "      <td>0.263420</td>\n",
       "      <td>0.019510</td>\n",
       "      <td>0.79</td>\n",
       "      <td>6.76</td>\n",
       "      <td>19.090</td>\n",
       "      <td>S0250</td>\n",
       "      <td>1.629270</td>\n",
       "      <td>0.01854</td>\n",
       "      <td>134.217</td>\n",
       "      <td>0.0000</td>\n",
       "      <td>0.020000</td>\n",
       "      <td>2.140</td>\n",
       "      <td>197.2</td>\n",
       "      <td>0.035</td>\n",
       "      <td>0.0</td>\n",
       "      <td>0.0</td>\n",
       "      <td>20.580</td>\n",
       "      <td>0.365000</td>\n",
       "      <td>0.078050</td>\n",
       "      <td>18</td>\n",
       "      <td>2337.6</td>\n",
       "      <td>0.0</td>\n",
       "      <td>0.0</td>\n",
       "      <td>0.0</td>\n",
       "      <td>0.0</td>\n",
       "      <td>34.7610</td>\n",
       "      <td>0.74146</td>\n",
       "      <td>12.9024</td>\n",
       "      <td>105.47000</td>\n",
       "      <td>3.490</td>\n",
       "      <td>9.0</td>\n",
       "      <td>2.0</td>\n",
       "      <td>35.698501</td>\n",
       "      <td>28.567500</td>\n",
       "    </tr>\n",
       "    <tr>\n",
       "      <th>4</th>\n",
       "      <td>4.419510</td>\n",
       "      <td>48.7639</td>\n",
       "      <td>287.8</td>\n",
       "      <td>0.05280</td>\n",
       "      <td>2073.1</td>\n",
       "      <td>0.52</td>\n",
       "      <td>0.497560</td>\n",
       "      <td>0.019510</td>\n",
       "      <td>-0.26</td>\n",
       "      <td>-1.78</td>\n",
       "      <td>11.050</td>\n",
       "      <td>S0209</td>\n",
       "      <td>0.087800</td>\n",
       "      <td>0.00098</td>\n",
       "      <td>118.365</td>\n",
       "      <td>13.1450</td>\n",
       "      <td>0.165000</td>\n",
       "      <td>4.880</td>\n",
       "      <td>285.6</td>\n",
       "      <td>1.010</td>\n",
       "      <td>0.0</td>\n",
       "      <td>0.0</td>\n",
       "      <td>14.940</td>\n",
       "      <td>0.000000</td>\n",
       "      <td>0.117070</td>\n",
       "      <td>1</td>\n",
       "      <td>2277.8</td>\n",
       "      <td>0.0</td>\n",
       "      <td>0.0</td>\n",
       "      <td>0.0</td>\n",
       "      <td>0.0</td>\n",
       "      <td>25.0829</td>\n",
       "      <td>0.60488</td>\n",
       "      <td>11.6117</td>\n",
       "      <td>114.88000</td>\n",
       "      <td>0.210</td>\n",
       "      <td>10.0</td>\n",
       "      <td>10.0</td>\n",
       "      <td>33.977501</td>\n",
       "      <td>10.093000</td>\n",
       "    </tr>\n",
       "    <tr>\n",
       "      <th>5</th>\n",
       "      <td>12.614600</td>\n",
       "      <td>42.7746</td>\n",
       "      <td>193.9</td>\n",
       "      <td>0.00130</td>\n",
       "      <td>2078.3</td>\n",
       "      <td>0.10</td>\n",
       "      <td>0.078050</td>\n",
       "      <td>0.000000</td>\n",
       "      <td>0.98</td>\n",
       "      <td>7.41</td>\n",
       "      <td>16.500</td>\n",
       "      <td>S0191</td>\n",
       "      <td>1.658540</td>\n",
       "      <td>0.03707</td>\n",
       "      <td>148.461</td>\n",
       "      <td>0.0000</td>\n",
       "      <td>0.020000</td>\n",
       "      <td>2.470</td>\n",
       "      <td>0.0</td>\n",
       "      <td>0.095</td>\n",
       "      <td>0.0</td>\n",
       "      <td>0.0</td>\n",
       "      <td>16.270</td>\n",
       "      <td>0.445000</td>\n",
       "      <td>0.107320</td>\n",
       "      <td>14</td>\n",
       "      <td>2429.7</td>\n",
       "      <td>0.0</td>\n",
       "      <td>0.0</td>\n",
       "      <td>0.0</td>\n",
       "      <td>0.0</td>\n",
       "      <td>36.6244</td>\n",
       "      <td>0.75122</td>\n",
       "      <td>12.9766</td>\n",
       "      <td>101.04000</td>\n",
       "      <td>0.170</td>\n",
       "      <td>10.0</td>\n",
       "      <td>10.0</td>\n",
       "      <td>37.017001</td>\n",
       "      <td>28.117500</td>\n",
       "    </tr>\n",
       "    <tr>\n",
       "      <th>6</th>\n",
       "      <td>3.292685</td>\n",
       "      <td>38.1073</td>\n",
       "      <td>255.2</td>\n",
       "      <td>0.01635</td>\n",
       "      <td>2068.5</td>\n",
       "      <td>0.14</td>\n",
       "      <td>0.138050</td>\n",
       "      <td>0.005370</td>\n",
       "      <td>0.18</td>\n",
       "      <td>4.98</td>\n",
       "      <td>20.865</td>\n",
       "      <td>S0001</td>\n",
       "      <td>0.936585</td>\n",
       "      <td>0.00878</td>\n",
       "      <td>144.160</td>\n",
       "      <td>0.3000</td>\n",
       "      <td>0.053333</td>\n",
       "      <td>2.815</td>\n",
       "      <td>210.3</td>\n",
       "      <td>0.090</td>\n",
       "      <td>0.0</td>\n",
       "      <td>0.0</td>\n",
       "      <td>20.170</td>\n",
       "      <td>0.753333</td>\n",
       "      <td>0.043900</td>\n",
       "      <td>10</td>\n",
       "      <td>2310.8</td>\n",
       "      <td>0.0</td>\n",
       "      <td>0.0</td>\n",
       "      <td>0.0</td>\n",
       "      <td>0.0</td>\n",
       "      <td>35.4927</td>\n",
       "      <td>0.80000</td>\n",
       "      <td>12.6078</td>\n",
       "      <td>122.78000</td>\n",
       "      <td>0.165</td>\n",
       "      <td>10.0</td>\n",
       "      <td>10.0</td>\n",
       "      <td>35.038667</td>\n",
       "      <td>15.072333</td>\n",
       "    </tr>\n",
       "    <tr>\n",
       "      <th>7</th>\n",
       "      <td>42.819500</td>\n",
       "      <td>0.0000</td>\n",
       "      <td>194.8</td>\n",
       "      <td>0.00050</td>\n",
       "      <td>2016.6</td>\n",
       "      <td>1.44</td>\n",
       "      <td>1.532680</td>\n",
       "      <td>0.049760</td>\n",
       "      <td>0.00</td>\n",
       "      <td>0.00</td>\n",
       "      <td>18.250</td>\n",
       "      <td>S0152</td>\n",
       "      <td>3.531710</td>\n",
       "      <td>0.02634</td>\n",
       "      <td>0.000</td>\n",
       "      <td>0.0000</td>\n",
       "      <td>0.015000</td>\n",
       "      <td>2.000</td>\n",
       "      <td>0.0</td>\n",
       "      <td>0.010</td>\n",
       "      <td>0.0</td>\n",
       "      <td>0.0</td>\n",
       "      <td>22.010</td>\n",
       "      <td>1.100000</td>\n",
       "      <td>0.136580</td>\n",
       "      <td>27</td>\n",
       "      <td>2367.2</td>\n",
       "      <td>0.0</td>\n",
       "      <td>0.0</td>\n",
       "      <td>0.0</td>\n",
       "      <td>0.0</td>\n",
       "      <td>0.0000</td>\n",
       "      <td>0.00000</td>\n",
       "      <td>0.0000</td>\n",
       "      <td>138.85001</td>\n",
       "      <td>0.020</td>\n",
       "      <td>12.0</td>\n",
       "      <td>10.0</td>\n",
       "      <td>36.141500</td>\n",
       "      <td>28.409000</td>\n",
       "    </tr>\n",
       "    <tr>\n",
       "      <th>8</th>\n",
       "      <td>3.292685</td>\n",
       "      <td>38.1073</td>\n",
       "      <td>255.2</td>\n",
       "      <td>0.01635</td>\n",
       "      <td>2068.5</td>\n",
       "      <td>0.14</td>\n",
       "      <td>0.138050</td>\n",
       "      <td>0.005370</td>\n",
       "      <td>0.18</td>\n",
       "      <td>4.98</td>\n",
       "      <td>20.865</td>\n",
       "      <td>S0243</td>\n",
       "      <td>0.936585</td>\n",
       "      <td>0.00878</td>\n",
       "      <td>144.160</td>\n",
       "      <td>0.3000</td>\n",
       "      <td>0.053333</td>\n",
       "      <td>2.815</td>\n",
       "      <td>210.3</td>\n",
       "      <td>0.090</td>\n",
       "      <td>0.0</td>\n",
       "      <td>0.0</td>\n",
       "      <td>20.170</td>\n",
       "      <td>0.753333</td>\n",
       "      <td>0.043900</td>\n",
       "      <td>10</td>\n",
       "      <td>2310.8</td>\n",
       "      <td>0.0</td>\n",
       "      <td>0.0</td>\n",
       "      <td>0.0</td>\n",
       "      <td>0.0</td>\n",
       "      <td>35.4927</td>\n",
       "      <td>0.80000</td>\n",
       "      <td>12.6078</td>\n",
       "      <td>122.78000</td>\n",
       "      <td>0.165</td>\n",
       "      <td>10.0</td>\n",
       "      <td>2.0</td>\n",
       "      <td>35.038667</td>\n",
       "      <td>15.072333</td>\n",
       "    </tr>\n",
       "    <tr>\n",
       "      <th>9</th>\n",
       "      <td>41.424400</td>\n",
       "      <td>0.0000</td>\n",
       "      <td>203.5</td>\n",
       "      <td>0.00050</td>\n",
       "      <td>0.0</td>\n",
       "      <td>1.77</td>\n",
       "      <td>1.430240</td>\n",
       "      <td>0.020490</td>\n",
       "      <td>0.00</td>\n",
       "      <td>0.00</td>\n",
       "      <td>17.600</td>\n",
       "      <td>S0147</td>\n",
       "      <td>2.760980</td>\n",
       "      <td>0.03805</td>\n",
       "      <td>0.000</td>\n",
       "      <td>0.0000</td>\n",
       "      <td>0.020000</td>\n",
       "      <td>2.010</td>\n",
       "      <td>197.4</td>\n",
       "      <td>0.010</td>\n",
       "      <td>0.0</td>\n",
       "      <td>0.0</td>\n",
       "      <td>23.610</td>\n",
       "      <td>1.000000</td>\n",
       "      <td>0.136580</td>\n",
       "      <td>25</td>\n",
       "      <td>0.0</td>\n",
       "      <td>0.0</td>\n",
       "      <td>0.0</td>\n",
       "      <td>0.0</td>\n",
       "      <td>0.0</td>\n",
       "      <td>0.0000</td>\n",
       "      <td>0.00000</td>\n",
       "      <td>0.0000</td>\n",
       "      <td>138.10001</td>\n",
       "      <td>0.060</td>\n",
       "      <td>10.0</td>\n",
       "      <td>10.0</td>\n",
       "      <td>36.463001</td>\n",
       "      <td>27.220000</td>\n",
       "    </tr>\n",
       "  </tbody>\n",
       "</table>"
      ],
      "text/plain": [
       "<myria.relation.MyriaRelation at 0x322e850>"
      ]
     },
     "execution_count": 11,
     "metadata": {},
     "output_type": "execute_result"
    }
   ],
   "source": [
    "# View data stored in this relation\n",
    "relation = MyriaRelation(dataset['relationKey'])\n",
    "relation"
   ]
  },
  {
   "cell_type": "code",
   "execution_count": 14,
   "metadata": {
    "collapsed": false
   },
   "outputs": [
    {
     "data": {
      "text/plain": [
       "287.8"
      ]
     },
     "execution_count": 14,
     "metadata": {},
     "output_type": "execute_result"
    }
   ],
   "source": [
    "relation.to_dict()[0]['CTDOXY']"
   ]
  },
  {
   "cell_type": "markdown",
   "metadata": {
    "slideshow": {
     "slide_type": "slide"
    }
   },
   "source": [
    "### Uploading data"
   ]
  },
  {
   "cell_type": "code",
   "execution_count": null,
   "metadata": {
    "collapsed": false
   },
   "outputs": [],
   "source": [
    "%%query\n",
    "\n",
    "-- Load from S3\n",
    "florida = load(\"https://s3-us-west-2.amazonaws.com/myria-demo-data/fl_insurance_sample_2.csv\",\n",
    "csv(schema(\n",
    "            id:int,\n",
    "            geo:string,\n",
    "            granularity:int,\n",
    "            deductable:float,\n",
    "            policyID:int, \n",
    "            construction:string,\n",
    "            line:string,\n",
    "            county:string,\n",
    "            state:string,\n",
    "            longitude:float,\n",
    "            latitude:float,\n",
    "            fl_site_deductible:float,\n",
    "            hu_site_deductible:float,\n",
    "            eq_site_deductible:float,\n",
    "            tiv_2012:float,\n",
    "            tiv_2011:float,\n",
    "            fr_site_limit:float,\n",
    "            fl_site_limit:float,\n",
    "            hu_site_limit:float,\n",
    "            eq_site_limit:float), skip=1));\n",
    "\n",
    "\n",
    "clay_county = [from florida where county = 'CLAY COUNTY' emit *];\n",
    "\n",
    "store(clay_county, insurance);"
   ]
  },
  {
   "cell_type": "code",
   "execution_count": null,
   "metadata": {
    "collapsed": false,
    "slideshow": {
     "slide_type": "fragment"
    }
   },
   "outputs": [],
   "source": [
    "# Alternatively, you can upload directly from a Python string\n",
    "name = {'userName': 'Brandon', 'programName': 'Demo', 'relationName': 'Books'}\n",
    "schema = { \"columnNames\" : [\"name\", \"pages\"],\n",
    "           \"columnTypes\" : [\"STRING_TYPE\",\"LONG_TYPE\"] }\n",
    "\n",
    "data = \"\"\"Brave New World,288\n",
    "Nineteen Eighty-Four,376\n",
    "We,256\"\"\"\n",
    "\n",
    "result = connection.upload_file(\n",
    "    name, schema, data, delimiter=',', overwrite=True)\n",
    "\n",
    "MyriaRelation(result['relationKey'], connection=connection)"
   ]
  },
  {
   "cell_type": "code",
   "execution_count": null,
   "metadata": {
    "collapsed": false
   },
   "outputs": [],
   "source": [
    "#Or, load using the myria_upload command-line utility\n",
    "!wget https://s3-us-west-2.amazonaws.com/myria-demo-data/books.csv\n",
    "!myria_upload --hostname demo.myria.cs.washington.edu --port 8753 --no-ssl --user Brandon --program Demo --relation Demo --overwrite books.csv"
   ]
  },
  {
   "cell_type": "markdown",
   "metadata": {
    "slideshow": {
     "slide_type": "slide"
    }
   },
   "source": [
    "### Working with relations"
   ]
  },
  {
   "cell_type": "code",
   "execution_count": null,
   "metadata": {
    "collapsed": false,
    "slideshow": {
     "slide_type": "fragment"
    }
   },
   "outputs": [],
   "source": [
    "# Using the previously-stored insurance relation\n",
    "MyriaRelation(\"insurance\")"
   ]
  },
  {
   "cell_type": "code",
   "execution_count": null,
   "metadata": {
    "collapsed": false,
    "slideshow": {
     "slide_type": "fragment"
    }
   },
   "outputs": [],
   "source": [
    "# View details about this relation\n",
    "relation = MyriaRelation(\"insurance\")\n",
    "print len(relation)\n",
    "print relation.created_date\n",
    "print relation.schema.names"
   ]
  },
  {
   "cell_type": "markdown",
   "metadata": {
    "slideshow": {
     "slide_type": "slide"
    }
   },
   "source": [
    "### Working Locally with Relations"
   ]
  },
  {
   "cell_type": "code",
   "execution_count": null,
   "metadata": {
    "collapsed": false,
    "slideshow": {
     "slide_type": "fragment"
    }
   },
   "outputs": [],
   "source": [
    "# 1: Download as a Python dictionary\n",
    "d = MyriaRelation(\"insurance\").to_dict()\n",
    "print 'First entry returned: %s' % d[0]['county']"
   ]
  },
  {
   "cell_type": "code",
   "execution_count": null,
   "metadata": {
    "collapsed": false,
    "slideshow": {
     "slide_type": "fragment"
    }
   },
   "outputs": [],
   "source": [
    "# 2: Download as a Pandas DataFrame\n",
    "df = MyriaRelation(\"insurance\").to_dataframe()\n",
    "print '%d entries with nonzero deductable' % len(df[df.eq_site_deductible > 0]) "
   ]
  },
  {
   "cell_type": "code",
   "execution_count": null,
   "metadata": {
    "collapsed": false,
    "slideshow": {
     "slide_type": "fragment"
    }
   },
   "outputs": [],
   "source": [
    "# 3: Download as a DataFrame and convert to a numpy array\n",
    "array = MyriaRelation(\"insurance\").to_dataframe().as_matrix()\n",
    "print 'Mean site limit = %d' % array[:,4].mean()"
   ]
  },
  {
   "cell_type": "markdown",
   "metadata": {
    "slideshow": {
     "slide_type": "slide"
    }
   },
   "source": [
    "## Working with queries"
   ]
  },
  {
   "cell_type": "code",
   "execution_count": null,
   "metadata": {
    "collapsed": false,
    "slideshow": {
     "slide_type": "fragment"
    }
   },
   "outputs": [],
   "source": [
    "%%query --Embed MyriaL in Jupyter notebook by using the \"%%query\" prefix \n",
    "\n",
    "insurance = scan(insurance);\n",
    "\n",
    "descriptives = [from insurance emit min(eq_site_deductible) as min_deductible, \n",
    "                                    max(eq_site_deductible) as max_deductible, \n",
    "                                    avg(eq_site_deductible) as mean_deductible, \n",
    "                                    stdev(eq_site_deductible) as stdev_deductible];\n",
    "\n",
    "store(descriptives, descriptives);"
   ]
  },
  {
   "cell_type": "code",
   "execution_count": null,
   "metadata": {
    "collapsed": false,
    "slideshow": {
     "slide_type": "fragment"
    }
   },
   "outputs": [],
   "source": [
    "# Grab the results of the most recent execution\n",
    "query = _\n",
    "or_this_works_too = _45"
   ]
  },
  {
   "cell_type": "code",
   "execution_count": null,
   "metadata": {
    "collapsed": false,
    "slideshow": {
     "slide_type": "fragment"
    }
   },
   "outputs": [],
   "source": [
    "query"
   ]
  },
  {
   "cell_type": "markdown",
   "metadata": {
    "slideshow": {
     "slide_type": "slide"
    }
   },
   "source": [
    "### Single-line queries may be treated like Python expressions"
   ]
  },
  {
   "cell_type": "code",
   "execution_count": null,
   "metadata": {
    "collapsed": false,
    "slideshow": {
     "slide_type": "fragment"
    }
   },
   "outputs": [],
   "source": [
    "query = %datalog Just500(column0, 500) :- TwitterK(column0, 500)%\n",
    "print query.status\n",
    "query"
   ]
  },
  {
   "cell_type": "markdown",
   "metadata": {
    "slideshow": {
     "slide_type": "slide"
    }
   },
   "source": [
    "## 5. Variable Binding"
   ]
  },
  {
   "cell_type": "code",
   "execution_count": null,
   "metadata": {
    "collapsed": false,
    "slideshow": {
     "slide_type": "fragment"
    }
   },
   "outputs": [],
   "source": [
    "low, high, destination = 543, 550, 'BoundRelation'"
   ]
  },
  {
   "cell_type": "markdown",
   "metadata": {
    "slideshow": {
     "slide_type": "fragment"
    }
   },
   "source": [
    "The tokens `@low`, `@high`, and `@destination` are bound to their values:"
   ]
  },
  {
   "cell_type": "code",
   "execution_count": null,
   "metadata": {
    "collapsed": false,
    "slideshow": {
     "slide_type": "fragment"
    }
   },
   "outputs": [],
   "source": [
    "%%query\n",
    "T1 = scan(TwitterK);\n",
    "T2 = [from T1 where $0 > @low and $0 < @high emit $1 as x];\n",
    "store(T2, @destination);"
   ]
  },
  {
   "cell_type": "markdown",
   "metadata": {
    "slideshow": {
     "slide_type": "slide"
    }
   },
   "source": [
    "# Deploying Myria in an Amazon Cluster!"
   ]
  },
  {
   "cell_type": "markdown",
   "metadata": {
    "slideshow": {
     "slide_type": "fragment"
    }
   },
   "source": [
    "## 1. Installing the Myria CLI"
   ]
  },
  {
   "cell_type": "markdown",
   "metadata": {},
   "source": [
    "```\n",
    "# From the command line, execute:\n",
    "sudo pip install myria-cluster\n",
    "```"
   ]
  },
  {
   "cell_type": "markdown",
   "metadata": {
    "slideshow": {
     "slide_type": "slide"
    }
   },
   "source": [
    "## 2. Launching Clusters"
   ]
  },
  {
   "cell_type": "code",
   "execution_count": null,
   "metadata": {
    "collapsed": false,
    "slideshow": {
     "slide_type": "fragment"
    }
   },
   "outputs": [],
   "source": [
    "!myria-cluster create my-cluster"
   ]
  },
  {
   "cell_type": "markdown",
   "metadata": {
    "slideshow": {
     "slide_type": "slide"
    }
   },
   "source": [
    "## 3. Connecting to the Cluster via Python\n",
    "\n",
    "You can connect to the new cluster by using the MyriaX REST endpoint URL.  In the example above, this is listed as http://ec2-50-112-33-121.us-west-2.compute.amazonaws.com:8753."
   ]
  },
  {
   "cell_type": "code",
   "execution_count": null,
   "metadata": {
    "collapsed": false,
    "slideshow": {
     "slide_type": "fragment"
    }
   },
   "outputs": [],
   "source": [
    "# Substitute your MyriaX REST URL here!\n",
    "%connect http://ec2-52-1-38-182.compute-1.amazonaws.com:8753 "
   ]
  },
  {
   "cell_type": "markdown",
   "metadata": {
    "slideshow": {
     "slide_type": "slide"
    }
   },
   "source": [
    "# Where to find more information:"
   ]
  },
  {
   "cell_type": "markdown",
   "metadata": {
    "slideshow": {
     "slide_type": "fragment"
    }
   },
   "source": [
    "#### Documentation\n",
    "[Myria Website](http://myria.cs.washington.edu/)<br /> \n",
    "[Myria Python](http://myria.cs.washington.edu/docs/myria-python/)<br /> \n",
    "[Additional Language Documentation](http://myria.cs.washington.edu/docs/myrial.html)<br /> \n",
    "[This Notebook](https://github.com/uwescience/myria-python/blob/master/ipnb%20examples/myria.ipynb) \n",
    "\n",
    "#### Repositories\n",
    "[Myria](https://github.com/uwescience/myria)<br /> \n",
    "[Myria-Python](https://github.com/uwescience/myria-python)<br /> \n",
    "[Myria-Cluster](https://github.com/uwescience/myria-ec2-ansible)\n",
    "\n",
    "#### Mailing List\n",
    "[myria-users@cs.washington.edu](mailto:myria-users@cs.washington.edu)"
   ]
  },
  {
   "cell_type": "markdown",
   "metadata": {
    "slideshow": {
     "slide_type": "subslide"
    }
   },
   "source": [
    "## Jupyter\n",
    "[Homepage](http://jupyter.org/)\n",
    "\n",
    "## Pandas/Dataframes\n",
    "[Homepage](http://pandas.pydata.org/)"
   ]
  }
 ],
 "metadata": {
  "celltoolbar": "Slideshow",
  "kernelspec": {
   "display_name": "Python 2",
   "language": "python",
   "name": "python2"
  },
  "language_info": {
   "codemirror_mode": {
    "name": "ipython",
    "version": 2
   },
   "file_extension": ".py",
   "mimetype": "text/x-python",
   "name": "python",
   "nbconvert_exporter": "python",
   "pygments_lexer": "ipython2",
   "version": "2.7.5"
  }
 },
 "nbformat": 4,
 "nbformat_minor": 0
}
